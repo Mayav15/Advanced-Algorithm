{
 "cells": [
  {
   "cell_type": "markdown",
   "metadata": {},
   "source": [
    "# ACCOUNTING METHOD\n"
   ]
  },
  {
   "cell_type": "code",
   "execution_count": 22,
   "metadata": {},
   "outputs": [
    {
     "name": "stdout",
     "output_type": "stream",
     "text": [
      "['push(12)', '\\npush(45)', '\\n\\n\\n\\n\\npop()', '\\n\\n\\n\\npush(78)', '\\n\\npush(23)', '\\n\\nmultipop(3)']\n",
      "[12]\n",
      "[12, 45]\n",
      "[12]\n",
      "[12, 78]\n",
      "[12, 78, 23]\n",
      "[12, 78]\n",
      "Stack after operations: [12, 78]\n",
      "Amortized cost =  1.0\n"
     ]
    }
   ],
   "source": [
    "with open('code.txt') as f:\n",
    "    inpt = f.read()\n",
    "\n",
    "stack = []\n",
    "in_list = inpt.split(';')\n",
    "if inpt[-1]==\";\":\n",
    "    in_list.remove(in_list[-1])\n",
    "print(in_list)\n",
    "cost = 0\n",
    "n = len(in_list)\n",
    "for i in in_list:\n",
    "    if \"pop\" in i:\n",
    "        cost = cost +1\n",
    "        stack.remove(stack[-1])\n",
    "        print(stack)\n",
    "        continue\n",
    "    elif \"push\" in i:\n",
    "        cost = cost +1\n",
    "        num = int(i[i.index('(')+1:i.index(')')])\n",
    "        stack.append(num)\n",
    "        print(stack)\n",
    "    elif \"multipop\" in i: \n",
    "        iter = int(i[i.index('(')+1:i.index(')')])\n",
    "        if iter > len(stack):\n",
    "            for i in range(len(stack)):\n",
    "                stack.remove(stack[-1])\n",
    "                cost = cost+1\n",
    "        else:\n",
    "            for i in range(iter):\n",
    "                stack.remove(stack[-1])\n",
    "                cost = cost+1\n",
    "    else:\n",
    "        continue\n",
    "am_cost = cost/n\n",
    "print(\"Stack after operations:\", stack)\n",
    "print(\"Amortized cost = \", am_cost)\n",
    "\n",
    "\n",
    "\n",
    "\n",
    "    \n"
   ]
  },
  {
   "cell_type": "markdown",
   "metadata": {},
   "source": [
    "# ACCOUNTING METHOD"
   ]
  },
  {
   "cell_type": "code",
   "execution_count": 27,
   "metadata": {},
   "outputs": [
    {
     "name": "stdout",
     "output_type": "stream",
     "text": [
      "For i = 1 \tpush(12)=12 \t Am_Cost = 0 \t Cost = 1 \t Credit = 2 \t Curr_size = 1 \t Max size = 1\n",
      "Stck:  [12]\n",
      "For i = 2 \tpush(45)=45 \t Am_Cost = 0 \t Cost = 2 \t Credit = 3 \t Curr_size = 2 \t Max size = 2\n",
      "Stck:  [12, 45]\n",
      "For i = 3 \tpop()=45 \t Am_Cost = 0 \t Cost = 1 \t Credit = 2 \t Curr_size = 1 \t Max size = 2\n",
      "Stck:  [12]\n",
      "For i = 4 \tpush(78)=78 \t Am_Cost = 0 \t Cost = 1 \t Credit = 4 \t Curr_size = 2 \t Max size = 2\n",
      "Stck:  [12, 78]\n",
      "For i = 5 \tpush(23)=23 \t Am_Cost = 0 \t Cost = 3 \t Credit = 4 \t Curr_size = 3 \t Max size = 4\n",
      "Stck:  [12, 78, 23]\n",
      "For i = 6 \tmultipop(3)=23 \t Am_Cost = 0 \t Cost = 1 \t Credit = 3 \t Curr_size = 2 \t Max size = 4\n",
      "Stck:  [12, 78]\n"
     ]
    }
   ],
   "source": [
    "with open('code.txt') as f:\n",
    "    inpt = f.read()\n",
    "\n",
    "curr_size = 0\n",
    "max_size = 1\n",
    "credit = 0\n",
    "j =  0\n",
    "inpt = inpt.replace(\" \",\"\")\n",
    "in_list = inpt.split(';')\n",
    "stack = []\n",
    "if inpt[-1]==\";\":\n",
    "    in_list.pop()\n",
    "for i in in_list:\n",
    "    j += 1\n",
    "    i = i.strip('\\n')\n",
    "    if \"push\" in i:\n",
    "        n = int(i[i.index('(')+1:i.index(')')])\n",
    "        stack.append(n)\n",
    "        curr_size+=1\n",
    "        if curr_size>max_size:\n",
    "            cost = curr_size\n",
    "            max_size*=2\n",
    "        else:\n",
    "            cost = 1\n",
    "        am_cost = 3\n",
    "        credit += am_cost-cost\n",
    "    elif \"pop\" in i:\n",
    "        stack.pop()\n",
    "        curr_size-=1\n",
    "        am_cost = 0\n",
    "        cost = 1\n",
    "        credit += am_cost-cost\n",
    "    elif \"multipop\" in i:\n",
    "        n = int(i[i.index('(')+1:i.index(')')])\n",
    "        if n>len(stack):\n",
    "            curr_size=0\n",
    "            cost = len(stack)\n",
    "            am_cost=0\n",
    "            credit += am_cost-cost\n",
    "            stack=[]\n",
    "        else:\n",
    "            cost = n\n",
    "            for j in range(n):\n",
    "                stack.pop()\n",
    "                curr_size -= 1\n",
    "            am_cost=0\n",
    "            credit += am_cost-cost\n",
    "    else:\n",
    "        continue\n",
    "    print(f\"For i = {j} \\t{i}={n} \\t Am_Cost = {total_am} \\t Cost = {cost} \\t Credit = {credit} \\t Curr_size = {curr_size} \\t Max size = {max_size}\")\n",
    "    print(\"Stck: \",stack)\n",
    "\n"
   ]
  },
  {
   "cell_type": "markdown",
   "metadata": {},
   "source": [
    "# POTENTIAL METHOD"
   ]
  },
  {
   "cell_type": "code",
   "execution_count": 20,
   "metadata": {},
   "outputs": [
    {
     "name": "stdout",
     "output_type": "stream",
     "text": [
      "For i=1\t push(12)=12\t Am_cost=2\t Cost=1\t Potential=1\t Curr_size=1\t Max size=1\n",
      "Stack:  [12]\n",
      "For i=2\t push(45)=45\t Am_cost=3\t Cost=2\t Potential=2\t Curr_size=2\t Max size=2\n",
      "Stack:  [12, 45]\n",
      "For i=3\t pop()=45\t Am_cost=0\t Cost=1\t Potential=1\t Curr_size=1\t Max size=2\n",
      "Stack:  [12]\n",
      "For i=4\t push(78)=78\t Am_cost=2\t Cost=1\t Potential=2\t Curr_size=2\t Max size=2\n",
      "Stack:  [12, 78]\n",
      "For i=5\t push(23)=23\t Am_cost=4\t Cost=3\t Potential=3\t Curr_size=3\t Max size=4\n",
      "Stack:  [12, 78, 23]\n",
      "For i=6\t multipop(2)=23\t Am_cost=0\t Cost=1\t Potential=2\t Curr_size=2\t Max size=4\n",
      "Stack:  [12, 78]\n"
     ]
    }
   ],
   "source": [
    "with open('code.txt') as f:\n",
    "    inpt = f.read()\n",
    "\n",
    "inp = inpt\n",
    "curr_size = 0\n",
    "max_size = 1\n",
    "potential = [0]\n",
    "stack = []\n",
    "j = 0\n",
    "in_list = inp.split(\";\")\n",
    "if inp[-1] == \";\":\n",
    "    in_list.pop()\n",
    "for i,k in zip(range(len(in_list)),in_list):\n",
    "    j += 1\n",
    "    k = k.strip('\\n')\n",
    "    if \"push\" in in_list[i]:\n",
    "        n = int(k[k.index('(')+1:k.index(')')])\n",
    "        curr_size += 1\n",
    "        if curr_size>max_size:\n",
    "            cost = curr_size\n",
    "            max_size *= 2\n",
    "        else:\n",
    "            cost = 1\n",
    "        stack.append(n)\n",
    "        potential.append(curr_size)\n",
    "        cost_am = cost + potential[i+1] - potential[i]\n",
    "    elif \"pop\" in in_list[i]:\n",
    "        curr_size -= 1\n",
    "        cost = 1\n",
    "        stack.pop()\n",
    "        potential.append(potential[i-1])\n",
    "        cost_am = cost + potential[i+1] - potential[i] \n",
    "    elif \"multipop\" in in_list[i]:\n",
    "        n = int(k[k.index('(')+1:k.index(')')])\n",
    "        if n>len(stack):\n",
    "            cost = len(stack)\n",
    "            curr_size = 0\n",
    "            stack = []\n",
    "            potential.append(0)\n",
    "        else:\n",
    "            cost = n\n",
    "            curr_size -= n\n",
    "            for j in range(n):\n",
    "                stack.pop()\n",
    "            potential.append(potential[i-n])\n",
    "        am_cost = cost + potential[i+1] - potential[i]\n",
    "    else:\n",
    "        continue\n",
    "    print(f\"For i={j}\\t {k}={n}\\t Am_cost={cost_am}\\t Cost={cost}\\t Potential={potential[i+1]}\\t Curr_size={curr_size}\\t Max size={max_size}\")\n",
    "    print(\"Stack: \",stack)\n",
    "        \n"
   ]
  },
  {
   "cell_type": "code",
   "execution_count": null,
   "metadata": {},
   "outputs": [],
   "source": []
  },
  {
   "cell_type": "code",
   "execution_count": null,
   "metadata": {},
   "outputs": [],
   "source": []
  }
 ],
 "metadata": {
  "interpreter": {
   "hash": "35f7f71fea992cba03b0421a517678e138b3841c87dcca53610b4f855eb0c03f"
  },
  "kernelspec": {
   "display_name": "Python 3.9.2 64-bit",
   "language": "python",
   "name": "python3"
  },
  "language_info": {
   "codemirror_mode": {
    "name": "ipython",
    "version": 3
   },
   "file_extension": ".py",
   "mimetype": "text/x-python",
   "name": "python",
   "nbconvert_exporter": "python",
   "pygments_lexer": "ipython3",
   "version": "3.9.2"
  }
 },
 "nbformat": 4,
 "nbformat_minor": 4
}
